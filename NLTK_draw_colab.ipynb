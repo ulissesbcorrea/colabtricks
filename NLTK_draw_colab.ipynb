{
  "nbformat": 4,
  "nbformat_minor": 0,
  "metadata": {
    "colab": {
      "name": "NLTK_draw_colab.ipynb",
      "version": "0.3.2",
      "provenance": [],
      "collapsed_sections": [],
      "include_colab_link": true
    },
    "kernelspec": {
      "name": "python3",
      "display_name": "Python 3"
    }
  },
  "cells": [
    {
      "cell_type": "markdown",
      "metadata": {
        "id": "view-in-github",
        "colab_type": "text"
      },
      "source": [
        "<a href=\"https://colab.research.google.com/github/ulissesbcorrea/colabtricks/blob/master/NLTK_draw_colab.ipynb\" target=\"_parent\"><img src=\"https://colab.research.google.com/assets/colab-badge.svg\" alt=\"Open In Colab\"/></a>"
      ]
    },
    {
      "cell_type": "code",
      "metadata": {
        "id": "8_06LS9o-26c",
        "colab_type": "code",
        "outputId": "4a66f343-a156-4805-c0cd-a8646576826b",
        "colab": {
          "base_uri": "https://localhost:8080/",
          "height": 69
        }
      },
      "source": [
        "def setup_NLTK_draw():\n",
        "  !apt update > /dev/null\n",
        "  !apt-get install -y xvfb  x11-utils  > /dev/null\n",
        "  !pip -qqq install pyvirtualdisplay \n",
        "  from pyvirtualdisplay import Display\n",
        "  display = Display(visible=0, size=(400, 300))\n",
        "  display.start()\n",
        "\n",
        "setup_NLTK_draw()"
      ],
      "execution_count": 0,
      "outputs": [
        {
          "output_type": "stream",
          "text": [
            "\n",
            "WARNING: apt does not have a stable CLI interface. Use with caution in scripts.\n",
            "\n"
          ],
          "name": "stdout"
        }
      ]
    },
    {
      "cell_type": "code",
      "metadata": {
        "id": "GgNNJsivtcqT",
        "colab_type": "code",
        "colab": {}
      },
      "source": [
        "def draw_NLTK_tree(tree_string, output_file='tree.png'):\n",
        "  from nltk import Tree\n",
        "  from nltk.draw.util import CanvasFrame\n",
        "  from nltk.draw import TreeWidget\n",
        "  from PIL import Image as ImagePIL\n",
        "  from IPython.display import Image, display\n",
        "  cf = CanvasFrame()\n",
        "  t = Tree.fromstring(tree_string)\n",
        "  tc = TreeWidget(cf.canvas(),t)\n",
        "  cf.add_widget(tc,10,10) # (10,10) offsets\n",
        "  cf.print_to_file('tree.ps')\n",
        "  cf.destroy()\n",
        "  im = ImagePIL.open('tree.ps')\n",
        "  im.save(output_file)\n",
        "  display(Image(output_file))"
      ],
      "execution_count": 0,
      "outputs": []
    },
    {
      "cell_type": "code",
      "metadata": {
        "id": "M6UCpVlhuO7j",
        "colab_type": "code",
        "outputId": "f27c68c2-b962-4915-e823-8d13600b520b",
        "colab": {
          "base_uri": "https://localhost:8080/",
          "height": 295
        }
      },
      "source": [
        "draw_NLTK_tree('(S (NP this tree) (VP (V is) (AdjP pretty)))')"
      ],
      "execution_count": 0,
      "outputs": [
        {
          "output_type": "display_data",
          "data": {
            "image/png": "[encoded data removed]",
            "text/plain": [
              "<IPython.core.display.Image object>"
            ]
          },
          "metadata": {
            "tags": []
          }
        }
      ]
    },
    {
      "cell_type": "code",
      "metadata": {
        "id": "MxbgjNuLuYF_",
        "colab_type": "code",
        "colab": {}
      },
      "source": [
        ""
      ],
      "execution_count": 0,
      "outputs": []
    }
  ]
}